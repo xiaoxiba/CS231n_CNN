{
 "cells": [
  {
   "cell_type": "markdown",
   "metadata": {},
   "source": [
    "# Image features exercise\n",
    "*Complete and hand in this completed worksheet (including its outputs and any supporting code outside of the worksheet) with your assignment submission. For more details see the [assignments page](http://vision.stanford.edu/teaching/cs231n/assignments.html) on the course website.*\n",
    "\n",
    "We have seen that we can achieve reasonable performance on an image classification task by training a linear classifier on the pixels of the input image. In this exercise we will show that we can improve our classification performance by training linear classifiers not on raw pixels but on features that are computed from the raw pixels.\n",
    "\n",
    "All of your work for this exercise will be done in this notebook."
   ]
  },
  {
   "cell_type": "code",
   "execution_count": 1,
   "metadata": {
    "collapsed": false
   },
   "outputs": [],
   "source": [
    "import random\n",
    "import numpy as np\n",
    "from cs231n.data_utils import load_CIFAR10\n",
    "import matplotlib.pyplot as plt\n",
    "%matplotlib inline\n",
    "plt.rcParams['figure.figsize'] = (10.0, 8.0) # set default size of plots\n",
    "plt.rcParams['image.interpolation'] = 'nearest'\n",
    "plt.rcParams['image.cmap'] = 'gray'\n",
    "\n",
    "# for auto-reloading extenrnal modules\n",
    "# see http://stackoverflow.com/questions/1907993/autoreload-of-modules-in-ipython\n",
    "%load_ext autoreload\n",
    "%autoreload 2"
   ]
  },
  {
   "cell_type": "markdown",
   "metadata": {},
   "source": [
    "## Load data\n",
    "Similar to previous exercises, we will load CIFAR-10 data from disk."
   ]
  },
  {
   "cell_type": "code",
   "execution_count": 8,
   "metadata": {
    "collapsed": false
   },
   "outputs": [],
   "source": [
    "from cs231n.features import color_histogram_hsv, hog_feature\n",
    "\n",
    "def get_CIFAR10_data(num_training=49000, num_validation=1000, num_test=1000):\n",
    "  # Load the raw CIFAR-10 data\n",
    "  cifar10_dir = 'cs231n/datasets/cifar-10-batches-py'\n",
    "  X_train, y_train, X_test, y_test = load_CIFAR10(cifar10_dir)\n",
    "  \n",
    "  # Subsample the data\n",
    "  mask = range(num_training, num_training + num_validation)\n",
    "  X_val = X_train[mask]\n",
    "  y_val = y_train[mask]\n",
    "  mask = range(num_training)\n",
    "  X_train = X_train[mask]\n",
    "  y_train = y_train[mask]\n",
    "  mask = range(num_test)\n",
    "  X_test = X_test[mask]\n",
    "  y_test = y_test[mask]\n",
    "\n",
    "  return X_train, y_train, X_val, y_val, X_test, y_test\n",
    "\n",
    "X_train, y_train, X_val, y_val, X_test, y_test = get_CIFAR10_data()"
   ]
  },
  {
   "cell_type": "markdown",
   "metadata": {},
   "source": [
    "## Extract Features\n",
    "For each image we will compute a Histogram of Oriented\n",
    "Gradients (HOG) as well as a color histogram using the hue channel in HSV\n",
    "color space. We form our final feature vector for each image by concatenating\n",
    "the HOG and color histogram feature vectors.\n",
    "\n",
    "Roughly speaking, HOG should capture the texture of the image while ignoring\n",
    "color information, and the color histogram represents the color of the input\n",
    "image while ignoring texture. As a result, we expect that using both together\n",
    "ought to work better than using either alone. Verifying this assumption would\n",
    "be a good thing to try for the bonus section.\n",
    "\n",
    "The `hog_feature` and `color_histogram_hsv` functions both operate on a single\n",
    "image and return a feature vector for that image. The extract_features\n",
    "function takes a set of images and a list of feature functions and evaluates\n",
    "each feature function on each image, storing the results in a matrix where\n",
    "each column is the concatenation of all feature vectors for a single image."
   ]
  },
  {
   "cell_type": "code",
   "execution_count": 9,
   "metadata": {
    "collapsed": false
   },
   "outputs": [
    {
     "name": "stdout",
     "output_type": "stream",
     "text": [
      "Done extracting features for 1000 / 49000 images\n",
      "Done extracting features for 2000 / 49000 images\n",
      "Done extracting features for 3000 / 49000 images\n",
      "Done extracting features for 4000 / 49000 images\n",
      "Done extracting features for 5000 / 49000 images\n",
      "Done extracting features for 6000 / 49000 images\n",
      "Done extracting features for 7000 / 49000 images\n",
      "Done extracting features for 8000 / 49000 images\n",
      "Done extracting features for 9000 / 49000 images\n",
      "Done extracting features for 10000 / 49000 images\n",
      "Done extracting features for 11000 / 49000 images\n",
      "Done extracting features for 12000 / 49000 images\n",
      "Done extracting features for 13000 / 49000 images\n",
      "Done extracting features for 14000 / 49000 images\n",
      "Done extracting features for 15000 / 49000 images\n",
      "Done extracting features for 16000 / 49000 images\n",
      "Done extracting features for 17000 / 49000 images\n",
      "Done extracting features for 18000 / 49000 images\n",
      "Done extracting features for 19000 / 49000 images\n",
      "Done extracting features for 20000 / 49000 images\n",
      "Done extracting features for 21000 / 49000 images\n",
      "Done extracting features for 22000 / 49000 images\n",
      "Done extracting features for 23000 / 49000 images\n",
      "Done extracting features for 24000 / 49000 images\n",
      "Done extracting features for 25000 / 49000 images\n",
      "Done extracting features for 26000 / 49000 images\n",
      "Done extracting features for 27000 / 49000 images\n",
      "Done extracting features for 28000 / 49000 images\n",
      "Done extracting features for 29000 / 49000 images\n",
      "Done extracting features for 30000 / 49000 images\n",
      "Done extracting features for 31000 / 49000 images\n",
      "Done extracting features for 32000 / 49000 images\n",
      "Done extracting features for 33000 / 49000 images\n",
      "Done extracting features for 34000 / 49000 images\n",
      "Done extracting features for 35000 / 49000 images\n",
      "Done extracting features for 36000 / 49000 images\n",
      "Done extracting features for 37000 / 49000 images\n",
      "Done extracting features for 38000 / 49000 images\n",
      "Done extracting features for 39000 / 49000 images\n",
      "Done extracting features for 40000 / 49000 images\n",
      "Done extracting features for 41000 / 49000 images\n",
      "Done extracting features for 42000 / 49000 images\n",
      "Done extracting features for 43000 / 49000 images\n",
      "Done extracting features for 44000 / 49000 images\n",
      "Done extracting features for 45000 / 49000 images\n",
      "Done extracting features for 46000 / 49000 images\n",
      "Done extracting features for 47000 / 49000 images\n",
      "Done extracting features for 48000 / 49000 images\n"
     ]
    }
   ],
   "source": [
    "from cs231n.features import *\n",
    "\n",
    "num_color_bins = 10 # Number of bins in the color histogram\n",
    "feature_fns = [hog_feature, lambda img: color_histogram_hsv(img, nbin=num_color_bins)]\n",
    "X_train_feats = extract_features(X_train, feature_fns, verbose=True)\n",
    "X_val_feats = extract_features(X_val, feature_fns)\n",
    "X_test_feats = extract_features(X_test, feature_fns)\n",
    "\n",
    "# Preprocessing: Subtract the mean feature\n",
    "mean_feat = np.mean(X_train_feats, axis=0, keepdims=True)\n",
    "X_train_feats -= mean_feat\n",
    "X_val_feats -= mean_feat\n",
    "X_test_feats -= mean_feat\n",
    "\n",
    "# Preprocessing: Divide by standard deviation. This ensures that each feature\n",
    "# has roughly the same scale.\n",
    "std_feat = np.std(X_train_feats, axis=0, keepdims=True)\n",
    "X_train_feats /= std_feat\n",
    "X_val_feats /= std_feat\n",
    "X_test_feats /= std_feat\n",
    "\n",
    "# Preprocessing: Add a bias dimension\n",
    "X_train_feats = np.hstack([X_train_feats, np.ones((X_train_feats.shape[0], 1))])\n",
    "X_val_feats = np.hstack([X_val_feats, np.ones((X_val_feats.shape[0], 1))])\n",
    "X_test_feats = np.hstack([X_test_feats, np.ones((X_test_feats.shape[0], 1))])"
   ]
  },
  {
   "cell_type": "markdown",
   "metadata": {},
   "source": [
    "## Train SVM on features\n",
    "Using the multiclass SVM code developed earlier in the assignment, train SVMs on top of the features extracted above; this should achieve better results than training SVMs directly on top of raw pixels."
   ]
  },
  {
   "cell_type": "code",
   "execution_count": null,
   "metadata": {
    "collapsed": false
   },
   "outputs": [],
   "source": [
    "# Use the validation set to tune the learning rate and regularization strength\n",
    "\n",
    "from cs231n.classifiers.linear_classifier import LinearSVM\n",
    "\n",
    "learning_rates = [1e-9, 1e-8, 1e-7]\n",
    "regularization_strengths = [1e5, 1e6, 1e7]\n",
    "\n",
    "results = {}\n",
    "best_val = -1\n",
    "best_svm = None\n",
    "\n",
    "pass\n",
    "################################################################################\n",
    "# TODO:                                                                        #\n",
    "# Use the validation set to set the learning rate and regularization strength. #\n",
    "# This should be identical to the validation that you did for the SVM; save    #\n",
    "# the best trained classifer in best_svm. You might also want to play          #\n",
    "# with different numbers of bins in the color histogram. If you are careful    #\n",
    "# you should be able to get accuracy of near 0.44 on the validation set.       #\n",
    "################################################################################\n",
    "pass\n",
    "################################################################################\n",
    "#                              END OF YOUR CODE                                #\n",
    "################################################################################\n",
    "\n",
    "# Print out results.\n",
    "for lr, reg in sorted(results):\n",
    "    train_accuracy, val_accuracy = results[(lr, reg)]\n",
    "    print 'lr %e reg %e train accuracy: %f val accuracy: %f' % (\n",
    "                lr, reg, train_accuracy, val_accuracy)\n",
    "    \n",
    "print 'best validation accuracy achieved during cross-validation: %f' % best_val"
   ]
  },
  {
   "cell_type": "code",
   "execution_count": null,
   "metadata": {
    "collapsed": false
   },
   "outputs": [],
   "source": [
    "# Evaluate your trained SVM on the test set\n",
    "y_test_pred = best_svm.predict(X_test_feats)\n",
    "test_accuracy = np.mean(y_test == y_test_pred)\n",
    "print test_accuracy"
   ]
  },
  {
   "cell_type": "code",
   "execution_count": 4,
   "metadata": {
    "collapsed": false
   },
   "outputs": [
    {
     "ename": "NameError",
     "evalue": "name 'y_test_pred' is not defined",
     "output_type": "error",
     "traceback": [
      "\u001b[1;31m---------------------------------------------------------------------------\u001b[0m",
      "\u001b[1;31mNameError\u001b[0m                                 Traceback (most recent call last)",
      "\u001b[1;32m<ipython-input-4-5402e51612ec>\u001b[0m in \u001b[0;36m<module>\u001b[1;34m()\u001b[0m\n\u001b[0;32m      8\u001b[0m \u001b[0mclasses\u001b[0m \u001b[1;33m=\u001b[0m \u001b[1;33m[\u001b[0m\u001b[1;34m'plane'\u001b[0m\u001b[1;33m,\u001b[0m \u001b[1;34m'car'\u001b[0m\u001b[1;33m,\u001b[0m \u001b[1;34m'bird'\u001b[0m\u001b[1;33m,\u001b[0m \u001b[1;34m'cat'\u001b[0m\u001b[1;33m,\u001b[0m \u001b[1;34m'deer'\u001b[0m\u001b[1;33m,\u001b[0m \u001b[1;34m'dog'\u001b[0m\u001b[1;33m,\u001b[0m \u001b[1;34m'frog'\u001b[0m\u001b[1;33m,\u001b[0m \u001b[1;34m'horse'\u001b[0m\u001b[1;33m,\u001b[0m \u001b[1;34m'ship'\u001b[0m\u001b[1;33m,\u001b[0m \u001b[1;34m'truck'\u001b[0m\u001b[1;33m]\u001b[0m\u001b[1;33m\u001b[0m\u001b[0m\n\u001b[0;32m      9\u001b[0m \u001b[1;32mfor\u001b[0m \u001b[0mcls\u001b[0m\u001b[1;33m,\u001b[0m \u001b[0mcls_name\u001b[0m \u001b[1;32min\u001b[0m \u001b[0menumerate\u001b[0m\u001b[1;33m(\u001b[0m\u001b[0mclasses\u001b[0m\u001b[1;33m)\u001b[0m\u001b[1;33m:\u001b[0m\u001b[1;33m\u001b[0m\u001b[0m\n\u001b[1;32m---> 10\u001b[1;33m     \u001b[0midxs\u001b[0m \u001b[1;33m=\u001b[0m \u001b[0mnp\u001b[0m\u001b[1;33m.\u001b[0m\u001b[0mwhere\u001b[0m\u001b[1;33m(\u001b[0m\u001b[1;33m(\u001b[0m\u001b[0my_test\u001b[0m \u001b[1;33m!=\u001b[0m \u001b[0mcls\u001b[0m\u001b[1;33m)\u001b[0m \u001b[1;33m&\u001b[0m \u001b[1;33m(\u001b[0m\u001b[0my_test_pred\u001b[0m \u001b[1;33m==\u001b[0m \u001b[0mcls\u001b[0m\u001b[1;33m)\u001b[0m\u001b[1;33m)\u001b[0m\u001b[1;33m[\u001b[0m\u001b[1;36m0\u001b[0m\u001b[1;33m]\u001b[0m\u001b[1;33m\u001b[0m\u001b[0m\n\u001b[0m\u001b[0;32m     11\u001b[0m     \u001b[0midxs\u001b[0m \u001b[1;33m=\u001b[0m \u001b[0mnp\u001b[0m\u001b[1;33m.\u001b[0m\u001b[0mrandom\u001b[0m\u001b[1;33m.\u001b[0m\u001b[0mchoice\u001b[0m\u001b[1;33m(\u001b[0m\u001b[0midxs\u001b[0m\u001b[1;33m,\u001b[0m \u001b[0mexamples_per_class\u001b[0m\u001b[1;33m,\u001b[0m \u001b[0mreplace\u001b[0m\u001b[1;33m=\u001b[0m\u001b[0mFalse\u001b[0m\u001b[1;33m)\u001b[0m\u001b[1;33m\u001b[0m\u001b[0m\n\u001b[0;32m     12\u001b[0m     \u001b[1;32mfor\u001b[0m \u001b[0mi\u001b[0m\u001b[1;33m,\u001b[0m \u001b[0midx\u001b[0m \u001b[1;32min\u001b[0m \u001b[0menumerate\u001b[0m\u001b[1;33m(\u001b[0m\u001b[0midxs\u001b[0m\u001b[1;33m)\u001b[0m\u001b[1;33m:\u001b[0m\u001b[1;33m\u001b[0m\u001b[0m\n",
      "\u001b[1;31mNameError\u001b[0m: name 'y_test_pred' is not defined"
     ]
    }
   ],
   "source": [
    "# An important way to gain intuition about how an algorithm works is to\n",
    "# visualize the mistakes that it makes. In this visualization, we show examples\n",
    "# of images that are misclassified by our current system. The first column\n",
    "# shows images that our system labeled as \"plane\" but whose true label is\n",
    "# something other than \"plane\".\n",
    "\n",
    "examples_per_class = 8\n",
    "classes = ['plane', 'car', 'bird', 'cat', 'deer', 'dog', 'frog', 'horse', 'ship', 'truck']\n",
    "for cls, cls_name in enumerate(classes):\n",
    "    idxs = np.where((y_test != cls) & (y_test_pred == cls))[0]\n",
    "    idxs = np.random.choice(idxs, examples_per_class, replace=False)\n",
    "    for i, idx in enumerate(idxs):\n",
    "        plt.subplot(examples_per_class, len(classes), i * len(classes) + cls + 1)\n",
    "        plt.imshow(X_test[idx].astype('uint8'))\n",
    "        plt.axis('off')\n",
    "        if i == 0:\n",
    "            plt.title(cls_name)\n",
    "plt.show()"
   ]
  },
  {
   "cell_type": "markdown",
   "metadata": {},
   "source": [
    "### Inline question 1:\n",
    "Describe the misclassification results that you see. Do they make sense?"
   ]
  },
  {
   "cell_type": "markdown",
   "metadata": {},
   "source": [
    "## Neural Network on image features\n",
    "Earlier in this assigment we saw that training a two-layer neural network on raw pixels achieved better classification performance than linear classifiers on raw pixels. In this notebook we have seen that linear classifiers on image features outperform linear classifiers on raw pixels. \n",
    "\n",
    "For completeness, we should also try training a neural network on image features. This approach should outperform all previous approaches: you should easily be able to achieve over 55% classification accuracy on the test set; our best model achieves about 60% classification accuracy."
   ]
  },
  {
   "cell_type": "code",
   "execution_count": 14,
   "metadata": {
    "collapsed": false
   },
   "outputs": [
    {
     "name": "stdout",
     "output_type": "stream",
     "text": [
      "(49000, 155)\n",
      "(49000,)\n",
      "(1000, 155)\n",
      "(1000,)\n"
     ]
    }
   ],
   "source": [
    "print X_train_feats.shape\n",
    "print y_train.shape\n",
    "print X_val_feats.shape\n",
    "print y_val.shape"
   ]
  },
  {
   "cell_type": "code",
   "execution_count": 24,
   "metadata": {
    "collapsed": false,
    "scrolled": true
   },
   "outputs": [
    {
     "name": "stdout",
     "output_type": "stream",
     "text": [
      "netsize: 500.000000 lr: 0.100000  reg: 0.000100 train_acc: 0.587184 val_acc: 0.554000\n",
      "netsize: 500.000000 lr: 0.100000  reg: 0.000300 train_acc: 0.586122 val_acc: 0.554000\n",
      "netsize: 500.000000 lr: 0.100000  reg: 0.001000 train_acc: 0.581408 val_acc: 0.554000\n",
      "netsize: 500.000000 lr: 0.100000  reg: 0.010000 train_acc: 0.546816 val_acc: 0.533000\n",
      "netsize: 500.000000 lr: 0.100000  reg: 0.100000 train_acc: 0.443265 val_acc: 0.428000\n",
      "netsize: 500.000000 lr: 0.100000  reg: 1.000000 train_acc: 0.100041 val_acc: 0.098000\n",
      "netsize: 500.000000 lr: 0.300000  reg: 0.000100 train_acc: 0.729041 val_acc: 0.611000\n",
      "netsize: 500.000000 lr: 0.300000  reg: 0.000300 train_acc: 0.717082 val_acc: 0.587000\n",
      "netsize: 500.000000 lr: 0.300000  reg: 0.001000 train_acc: 0.708163 val_acc: 0.607000\n",
      "netsize: 500.000000 lr: 0.300000  reg: 0.010000 train_acc: 0.579041 val_acc: 0.546000\n",
      "netsize: 500.000000 lr: 0.300000  reg: 0.100000 train_acc: 0.436612 val_acc: 0.436000\n",
      "netsize: 500.000000 lr: 0.300000  reg: 1.000000 train_acc: 0.100449 val_acc: 0.078000\n",
      "netsize: 500.000000 lr: 1.000000  reg: 0.000100 train_acc: 0.852531 val_acc: 0.552000\n",
      "netsize: 500.000000 lr: 1.000000  reg: 0.000300 train_acc: 0.817980 val_acc: 0.574000\n",
      "netsize: 500.000000 lr: 1.000000  reg: 0.001000 train_acc: 0.778612 val_acc: 0.594000\n",
      "netsize: 500.000000 lr: 1.000000  reg: 0.010000 train_acc: 0.564224 val_acc: 0.564000\n",
      "netsize: 500.000000 lr: 1.000000  reg: 0.100000 train_acc: 0.397490 val_acc: 0.414000\n",
      "netsize: 500.000000 lr: 1.000000  reg: 1.000000 train_acc: 0.099959 val_acc: 0.102000\n",
      "netsize: 500.000000 lr: 3.000000  reg: 0.000100 train_acc: 0.821102 val_acc: 0.533000\n",
      "netsize: 500.000000 lr: 3.000000  reg: 0.000300 train_acc: 0.774286 val_acc: 0.537000\n",
      "netsize: 500.000000 lr: 3.000000  reg: 0.001000 train_acc: 0.680612 val_acc: 0.567000\n",
      "netsize: 500.000000 lr: 3.000000  reg: 0.010000 train_acc: 0.524388 val_acc: 0.510000\n",
      "netsize: 500.000000 lr: 3.000000  reg: 0.100000 train_acc: 0.334612 val_acc: 0.334000"
     ]
    },
    {
     "name": "stderr",
     "output_type": "stream",
     "text": [
      "cs231n/classifiers/neural_net.py:118: RuntimeWarning: divide by zero encountered in log\n",
      "  correct_logprobs = -np.log(probs[range(N), y])        # (N,1)\n",
      "cs231n/classifiers/neural_net.py:115: RuntimeWarning: overflow encountered in subtract\n",
      "  exp_scores = np.exp(scores - scores_max)              # (N,C)\n"
     ]
    },
    {
     "name": "stdout",
     "output_type": "stream",
     "text": [
      "\n",
      "netsize: 500.000000 lr: 3.000000  reg: 1.000000 train_acc: 0.100265 val_acc: 0.087000\n",
      "net_size 5.000000e+02 lr 1.000000e-01 reg 1.000000e-04 train accuracy: 0.587184 val accuracy: 0.554000 \n",
      "\n",
      "net_size 5.000000e+02 lr 1.000000e-01 reg 3.000000e-04 train accuracy: 0.586122 val accuracy: 0.554000 \n",
      "\n",
      "net_size 5.000000e+02 lr 1.000000e-01 reg 1.000000e-03 train accuracy: 0.581408 val accuracy: 0.554000 \n",
      "\n",
      "net_size 5.000000e+02 lr 1.000000e-01 reg 1.000000e-02 train accuracy: 0.546816 val accuracy: 0.533000 \n",
      "\n",
      "net_size 5.000000e+02 lr 1.000000e-01 reg 1.000000e-01 train accuracy: 0.443265 val accuracy: 0.428000 \n",
      "\n",
      "net_size 5.000000e+02 lr 1.000000e-01 reg 1.000000e+00 train accuracy: 0.100041 val accuracy: 0.098000 \n",
      "\n",
      "net_size 5.000000e+02 lr 3.000000e-01 reg 1.000000e-04 train accuracy: 0.729041 val accuracy: 0.611000 \n",
      "\n",
      "net_size 5.000000e+02 lr 3.000000e-01 reg 3.000000e-04 train accuracy: 0.717082 val accuracy: 0.587000 \n",
      "\n",
      "net_size 5.000000e+02 lr 3.000000e-01 reg 1.000000e-03 train accuracy: 0.708163 val accuracy: 0.607000 \n",
      "\n",
      "net_size 5.000000e+02 lr 3.000000e-01 reg 1.000000e-02 train accuracy: 0.579041 val accuracy: 0.546000 \n",
      "\n",
      "net_size 5.000000e+02 lr 3.000000e-01 reg 1.000000e-01 train accuracy: 0.436612 val accuracy: 0.436000 \n",
      "\n",
      "net_size 5.000000e+02 lr 3.000000e-01 reg 1.000000e+00 train accuracy: 0.100449 val accuracy: 0.078000 \n",
      "\n",
      "net_size 5.000000e+02 lr 1.000000e+00 reg 1.000000e-04 train accuracy: 0.852531 val accuracy: 0.552000 \n",
      "\n",
      "net_size 5.000000e+02 lr 1.000000e+00 reg 3.000000e-04 train accuracy: 0.817980 val accuracy: 0.574000 \n",
      "\n",
      "net_size 5.000000e+02 lr 1.000000e+00 reg 1.000000e-03 train accuracy: 0.778612 val accuracy: 0.594000 \n",
      "\n",
      "net_size 5.000000e+02 lr 1.000000e+00 reg 1.000000e-02 train accuracy: 0.564224 val accuracy: 0.564000 \n",
      "\n",
      "net_size 5.000000e+02 lr 1.000000e+00 reg 1.000000e-01 train accuracy: 0.397490 val accuracy: 0.414000 \n",
      "\n",
      "net_size 5.000000e+02 lr 1.000000e+00 reg 1.000000e+00 train accuracy: 0.099959 val accuracy: 0.102000 \n",
      "\n",
      "net_size 5.000000e+02 lr 3.000000e+00 reg 1.000000e-04 train accuracy: 0.821102 val accuracy: 0.533000 \n",
      "\n",
      "net_size 5.000000e+02 lr 3.000000e+00 reg 3.000000e-04 train accuracy: 0.774286 val accuracy: 0.537000 \n",
      "\n",
      "net_size 5.000000e+02 lr 3.000000e+00 reg 1.000000e-03 train accuracy: 0.680612 val accuracy: 0.567000 \n",
      "\n",
      "net_size 5.000000e+02 lr 3.000000e+00 reg 1.000000e-02 train accuracy: 0.524388 val accuracy: 0.510000 \n",
      "\n",
      "net_size 5.000000e+02 lr 3.000000e+00 reg 1.000000e-01 train accuracy: 0.334612 val accuracy: 0.334000 \n",
      "\n",
      "net_size 5.000000e+02 lr 3.000000e+00 reg 1.000000e+00 train accuracy: 0.100265 val accuracy: 0.087000 \n",
      "\n",
      "best validation accuracy achieved during cross-validation: 0.611000\n",
      "best parameter during cross-validation: net_size: 500 lr: 3.000000e-01  reg: 1.000000e-04 \n"
     ]
    },
    {
     "name": "stderr",
     "output_type": "stream",
     "text": [
      "cs231n/classifiers/neural_net.py:115: RuntimeWarning: invalid value encountered in subtract\n",
      "  exp_scores = np.exp(scores - scores_max)              # (N,C)\n",
      "cs231n/classifiers/neural_net.py:155: RuntimeWarning: invalid value encountered in less_equal\n",
      "  dh1[h1 <= 0] = 0\n"
     ]
    }
   ],
   "source": [
    "from cs231n.classifiers.neural_net import TwoLayerNet\n",
    "\n",
    "input_dim = X_train_feats.shape[1]\n",
    "hidden_dim = 500\n",
    "num_classes = 10\n",
    "\n",
    "net = TwoLayerNet(input_dim, hidden_dim, num_classes)\n",
    "best_net = None\n",
    "\n",
    "################################################################################\n",
    "# TODO: Train a two-layer neural network on image features. You may want to    #\n",
    "# cross-validate various parameters as in previous sections. Store your best   #\n",
    "# model in the best_net variable.                                              #\n",
    "################################################################################\n",
    "pass\n",
    "\n",
    "net_sizes = [500]\n",
    "learning_rates = [1e-1, 3e-1, 1, 3]\n",
    "regularization_strengths = [1e-4, 3e-4, 1e-3, 1e-2, 1e-1, 1]\n",
    "\n",
    "#net_sizes = [500]\n",
    "#learning_rates = [1e-1]\n",
    "#regularization_strengths = [1e-2]\n",
    "\n",
    "\"\"\"\n",
    "net_sizes = [50, 500]\n",
    "learning_rates = [1e-3]\n",
    "regularization_strengths = [1e-1, 1]\n",
    "\"\"\"\n",
    "\n",
    "stats_history = {}\n",
    "results = {}\n",
    "best_val = -1   # The highest validation accuracy that we have seen so far.\n",
    "best_net = None # The net object that achieved the highest validation rate.\n",
    "\n",
    "import copy\n",
    "\n",
    "#First use small training set and iteration for debug, then use full training set and large iteration\n",
    "\n",
    "input_size = input_dim\n",
    "\n",
    "\n",
    "\n",
    "for net_size in net_sizes:\n",
    "  hidden_size = net_size\n",
    "  for lr in learning_rates:\n",
    "    for reg in regularization_strengths:\n",
    "        # create new net\n",
    "        net = TwoLayerNet(input_size, hidden_size, num_classes)\n",
    "        #train\n",
    "        stats = net.train(X_train_feats, y_train, X_val_feats, y_val,\n",
    "            num_iters=3000, batch_size=200,\n",
    "            learning_rate=lr, learning_rate_decay=0.95,\n",
    "            reg=reg, verbose=False)\n",
    "        \n",
    "\n",
    "        # Test predict accuracy on the training and  validation set\n",
    "        train_acc = (net.predict(X_train_feats) == y_train).mean()\n",
    "        val_acc = (net.predict(X_val_feats) == y_val).mean()\n",
    "        print 'netsize: %f lr: %f  reg: %f train_acc: %f val_acc: %f'% (net_size, lr, reg, train_acc, val_acc)\n",
    "            \n",
    "       \n",
    "        #save training stats for future analysis, need use above train_acc and val_acc\n",
    "        #do not use accuracy info stats info since it's the the latest one, for history only\n",
    "        results[(net_size, lr, reg)] = (train_acc, val_acc)\n",
    "        stats_history[(net_size, lr, reg)] = stats\n",
    "        \n",
    "        if best_val < val_acc:\n",
    "            best_val = val_acc\n",
    "            best_par = (net_size, lr, reg)\n",
    "            best_net = copy.deepcopy(net)\n",
    "\n",
    "            \n",
    "# Print out results.\n",
    "for net_size, lr, reg in sorted(results):\n",
    "    train_acc, val_acc = results[(net_size, lr, reg)]\n",
    "    print 'net_size %e lr %e reg %e train accuracy: %f val accuracy: %f \\n' % (\n",
    "                net_size, lr, reg, train_acc, val_acc)\n",
    "\n",
    "    \n",
    "print 'best validation accuracy achieved during cross-validation: %f' % best_val\n",
    "\n",
    "net_size, lr, reg = best_par\n",
    "print 'best parameter during cross-validation: net_size: %d lr: %e  reg: %e ' % (net_size, lr, reg)\n",
    "      \n",
    "\n",
    "################################################################################\n",
    "#                              END OF YOUR CODE                                #\n",
    "################################################################################"
   ]
  },
  {
   "cell_type": "code",
   "execution_count": 27,
   "metadata": {
    "collapsed": false
   },
   "outputs": [
    {
     "name": "stdout",
     "output_type": "stream",
     "text": [
      "0.586\n"
     ]
    }
   ],
   "source": [
    "# Run your neural net classifier on the test set. You should be able to\n",
    "# get more than 55% accuracy.\n",
    "\n",
    "test_acc = (best_net.predict(X_test_feats) == y_test).mean()\n",
    "print test_acc"
   ]
  },
  {
   "cell_type": "code",
   "execution_count": null,
   "metadata": {
    "collapsed": false
   },
   "outputs": [],
   "source": [
    "for net_size, lr, reg in sorted(stats_history):\n",
    "    \n",
    "    stats = stats_history[(net_size, lr, reg)]\n",
    "    train_acc, val_acc = results[(net_size, lr, reg)]\n",
    "    \n",
    "    # Plot the loss function and train / validation accuracies\n",
    "    print 'net_size %e lr %e reg %e train accuracy: %f val accuracy: %f \\n' % (\n",
    "                net_size, lr, reg, train_acc, val_acc)\n",
    "    \n",
    "    plt.subplot(2, 1, 1)\n",
    "    plt.plot(stats['loss_history'])\n",
    "    plt.title('Loss history')\n",
    "    plt.xlabel('Iteration')\n",
    "    plt.ylabel('Loss')\n",
    "\n",
    "    plt.subplot(2, 1, 2)\n",
    "    plt.plot(stats['train_acc_history'], label='train')\n",
    "    plt.plot(stats['val_acc_history'], label='val')\n",
    "    plt.title('Classification accuracy history')\n",
    "    plt.xlabel('Epoch')\n",
    "    plt.ylabel('Clasification accuracy')\n",
    "    plt.show()\n",
    "\n",
    "\n"
   ]
  },
  {
   "cell_type": "markdown",
   "metadata": {},
   "source": [
    "# Bonus: Design your own features!\n",
    "\n",
    "You have seen that simple image features can improve classification performance. So far we have tried HOG and color histograms, but other types of features may be able to achieve even better classification performance.\n",
    "\n",
    "For bonus points, design and implement a new type of feature and use it for image classification on CIFAR-10. Explain how your feature works and why you expect it to be useful for image classification. Implement it in this notebook, cross-validate any hyperparameters, and compare its performance to the HOG + Color histogram baseline."
   ]
  },
  {
   "cell_type": "markdown",
   "metadata": {},
   "source": [
    "# Bonus: Do something extra!\n",
    "Use the material and code we have presented in this assignment to do something interesting. Was there another question we should have asked? Did any cool ideas pop into your head as you were working on the assignment? This is your chance to show off!"
   ]
  }
 ],
 "metadata": {
  "kernelspec": {
   "display_name": "Python 2",
   "language": "python",
   "name": "python2"
  },
  "language_info": {
   "codemirror_mode": {
    "name": "ipython",
    "version": 2
   },
   "file_extension": ".py",
   "mimetype": "text/x-python",
   "name": "python",
   "nbconvert_exporter": "python",
   "pygments_lexer": "ipython2",
   "version": "2.7.6"
  }
 },
 "nbformat": 4,
 "nbformat_minor": 0
}
